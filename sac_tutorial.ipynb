{
 "cells": [
  {
   "cell_type": "markdown",
   "metadata": {},
   "source": [
    "# SAC"
   ]
  },
  {
   "cell_type": "markdown",
   "metadata": {},
   "source": [
    "For ReLAx & Mujoco installation see:\n",
    "https://github.com/nslyubaykin/relax/blob/master/README.md\n",
    "\n",
    "Useful readings regarding SAC:\n",
    "- SAC paper: https://arxiv.org/abs/1801.01290\n",
    "- SAC description: https://spinningup.openai.com/en/latest/algorithms/sac.html\n",
    "\n",
    "!Note: For examining trained actor you may just load trained policies from \\trained_models directory.\n",
    "To do that instead of running 'Run Training and Validation loop' cell, just run 'Load Models' cell\n",
    "\n",
    "!Note: Trained policies, logs and videos are in the main repository of that notebook: https://github.com/nslyubaykin/relax_sac_example"
   ]
  },
  {
   "cell_type": "code",
   "execution_count": 1,
   "metadata": {},
   "outputs": [],
   "source": [
    "import gym\n",
    "import torch\n",
    "import numpy as np\n",
    "import matplotlib.pyplot as plt\n",
    "\n",
    "from tqdm import tqdm\n",
    "from inspect import getsource\n",
    "from torch.utils.tensorboard import SummaryWriter\n",
    "\n",
    "from relax.rl.actors import SAC\n",
    "from relax.rl.critics import CDQN\n",
    "\n",
    "from relax.zoo.policies import TanhNormalMLP\n",
    "from relax.zoo.critics import ContQMLP\n",
    "\n",
    "from relax.schedules import PiecewiseSchedule\n",
    "\n",
    "from relax.data.sampling import Sampler\n",
    "from relax.data.replay_buffer import ReplayBuffer\n",
    "\n",
    "from relax.gym.utils import visualize_actor"
   ]
  },
  {
   "cell_type": "markdown",
   "metadata": {},
   "source": [
    "# Constructing Actor's stochastic policy\n",
    "\n",
    "SAC is a continuous control algorithm with a stochastic policy. The key idea of SAC is to maximize policy's entropy along with RL objective to ensure maximum exploration over the entire course of training. SAC policy is a network that takes a batch of observations with a shape (BATCH_SIZE, *obs.shape) and produces 2 output streams: 1) actions means stream with output shape (BATCH_SIZE, ACS_DIM), 2) actions log(std) stream with output shape (BATCH_SIZE, ACS_DIM). These two streams should parameterize Tanh squashed multivariate normal distribution (implementation that should be used is provided: relax.zoo.distributions.TanhNormal). So, to sum up, overall policy takes as an input a batch of observations with a shape (BATCH_SIZE, *obs.shape) and outputs relax.zoo.distributions.TanhNormal distribution (which is a subclass of torch distribution). \n",
    "\n",
    "Therefore any custom user defined networks meeting this requirements should work well \n",
    "with SAC actor\n",
    "\n",
    "So let's examine the default implementation of TanhNormal policy offered by ReLAx:"
   ]
  },
  {
   "cell_type": "code",
   "execution_count": 3,
   "metadata": {},
   "outputs": [
    {
     "name": "stdout",
     "output_type": "stream",
     "text": [
      "class TanhNormalMLP(nn.Module):\n",
      "    \n",
      "    def __init__(self, obs_dim, acs_dim, \n",
      "                 hidden1=400, hidden2=300,\n",
      "                 acs_scale=1, acs_bias=0,\n",
      "                 activation=nn.ReLU(),\n",
      "                 out_activation=nn.Identity(),\n",
      "                 init_w=3e-3, \n",
      "                 min_log_std=-20, \n",
      "                 max_log_std=2):\n",
      "        \n",
      "        super(TanhNormalMLP, self).__init__()\n",
      "        \n",
      "        layers = []\n",
      "        layers.append(nn.Linear(obs_dim, hidden1))\n",
      "        layers.append(activation)\n",
      "        layers.append(nn.Linear(hidden1, hidden2))\n",
      "        layers.append(activation)\n",
      "        self.hidden_layers = nn.Sequential(*layers)\n",
      "        \n",
      "        self.mean_layer_linear = nn.Linear(hidden2, acs_dim)\n",
      "        self.mean_layer_linear.weight.data.uniform_(-init_w, init_w)\n",
      "        self.mean_layer_linear.bias.data.uniform_(-init_w, init_w)\n",
      "        self.mean_layer = nn.Sequential(\n",
      "            self.mean_layer_linear,\n",
      "            out_activation\n",
      "        )\n",
      "        \n",
      "        self.log_std_layer_linear = nn.Linear(hidden2, acs_dim)\n",
      "        self.log_std_layer_linear.weight.data.uniform_(-init_w, init_w)\n",
      "        self.log_std_layer_linear.bias.data.uniform_(-init_w, init_w)\n",
      "        self.log_std_layer = nn.Sequential(\n",
      "            self.log_std_layer_linear,\n",
      "            out_activation\n",
      "        )\n",
      "        \n",
      "        self.min_log_std = min_log_std\n",
      "        self.max_log_std = max_log_std\n",
      "        self.acs_scale = acs_scale\n",
      "        self.acs_bias = acs_bias\n",
      "\n",
      "    def forward(self, x):\n",
      "        \n",
      "        x_hidden = self.hidden_layers(torch.flatten(x, start_dim=1))\n",
      "        means = self.mean_layer(x_hidden)\n",
      "        log_stds = self.log_std_layer(x_hidden)\n",
      "        \n",
      "        y = TanhNormal(\n",
      "            loc=means,\n",
      "            log_scale=log_stds,\n",
      "            acs_scale=self.acs_scale,\n",
      "            acs_bias=self.acs_bias,\n",
      "            min_log_std=self.min_log_std,\n",
      "            max_log_std=self.max_log_std\n",
      "        )\n",
      "        \n",
      "        return y\n",
      "\n"
     ]
    }
   ],
   "source": [
    "print(getsource(TanhNormalMLP))"
   ]
  },
  {
   "cell_type": "markdown",
   "metadata": {},
   "source": [
    "# Constructing Continuous Deep Q-Network Critic\n",
    "\n",
    "Actor's stochastic policy is trained in pair with  2 critic networks which approximate Q-Function for a given observation-action pair. That means that critic net is taking as an input an observations batch with a shape of (BATCH_SIZE, *obs.shape) and a batch of corresponding actions with a shape (BATCH_SIZE, ACS_DIM) and outputting Q-Values batch with a shape (BATCH_SIZE, 1).\n",
    "\n",
    "Therefore any custom user defined networks meeting this requirements should work well with CDQN critic\n",
    "\n",
    "So let's examine the default implementation of Continuous Deep Q-Network Critic offered by ReLAx:"
   ]
  },
  {
   "cell_type": "code",
   "execution_count": 4,
   "metadata": {},
   "outputs": [
    {
     "name": "stdout",
     "output_type": "stream",
     "text": [
      "class ContQMLP(nn.Module):\n",
      "    \n",
      "    def __init__(self, obs_dim, acs_dim, \n",
      "                 hidden1=400, hidden2=300,\n",
      "                 activation=nn.ReLU(),\n",
      "                 out_activation=nn.Identity(),\n",
      "                 init_w=3e-3):\n",
      "        \n",
      "        super(ContQMLP, self).__init__()\n",
      "        \n",
      "        self.fc1 = nn.Linear(obs_dim+acs_dim, hidden1)\n",
      "        self.fc2 = nn.Linear(hidden1, hidden2)\n",
      "        self.fc3 = nn.Linear(hidden2, 1)\n",
      "        self.activation = activation\n",
      "        self.out_activation = out_activation\n",
      "        self.acs_dim = acs_dim\n",
      "        \n",
      "    def forward(self, obs, acs):\n",
      "        \n",
      "        out = self.fc1(\n",
      "            torch.cat(\n",
      "                [torch.flatten(obs, start_dim=1), acs], \n",
      "                dim=-1\n",
      "            )\n",
      "        )\n",
      "        out = self.activation(out)\n",
      "        out = self.fc2(out)\n",
      "        out = self.activation(out)\n",
      "        out = self.fc3(out)\n",
      "        out = self.out_activation(out)\n",
      "        \n",
      "        return out\n",
      "\n"
     ]
    }
   ],
   "source": [
    "print(getsource(ContQMLP))"
   ]
  },
  {
   "cell_type": "markdown",
   "metadata": {},
   "source": [
    "# Define Schedules for Training:\n",
    "\n",
    "Our SAC actor will not learn for the first 10k iterations. (Told to actor by passing 0 learning rate for the first 10k iterations)\n",
    "\n",
    "And it will also conduct maximum exploration during that phase to collect initial random training data. "
   ]
  },
  {
   "cell_type": "code",
   "execution_count": 5,
   "metadata": {},
   "outputs": [
    {
     "data": {
      "image/png": "[encoded data removed]",
      "text/plain": [
       "<Figure size 432x288 with 1 Axes>"
      ]
     },
     "metadata": {
      "needs_background": "light"
     },
     "output_type": "display_data"
    }
   ],
   "source": [
    "# Creating schedules:\n",
    "# first 10000 iterations no learning - just data collection\n",
    "policy_lr = PiecewiseSchedule({0: 10000}, 1e-3)\n",
    "critic_lr = PiecewiseSchedule({0: 10000}, 1e-3)\n",
    "policy_lr.plot(int(1e6))"
   ]
  },
  {
   "cell_type": "markdown",
   "metadata": {},
   "source": [
    "# Create training and eval environments"
   ]
  },
  {
   "cell_type": "code",
   "execution_count": 6,
   "metadata": {},
   "outputs": [
    {
     "data": {
      "text/plain": [
       "[6]"
      ]
     },
     "execution_count": 6,
     "metadata": {},
     "output_type": "execute_result"
    }
   ],
   "source": [
    "env_name = 'Hopper-v2'\n",
    "env = gym.make(env_name)\n",
    "eval_env = gym.make(env_name)\n",
    "eval_env.seed(np.random.randint(100))"
   ]
  },
  {
   "cell_type": "code",
   "execution_count": 7,
   "metadata": {},
   "outputs": [
    {
     "data": {
      "text/plain": [
       "(Box(3,),\n",
       " array([1., 1., 1.], dtype=float32),\n",
       " array([-1., -1., -1.], dtype=float32))"
      ]
     },
     "execution_count": 7,
     "metadata": {},
     "output_type": "execute_result"
    }
   ],
   "source": [
    "env.action_space, env.action_space.high, env.action_space.low"
   ]
  },
  {
   "cell_type": "code",
   "execution_count": 8,
   "metadata": {},
   "outputs": [
    {
     "data": {
      "text/plain": [
       "Box(11,)"
      ]
     },
     "execution_count": 8,
     "metadata": {},
     "output_type": "execute_result"
    }
   ],
   "source": [
    "env.observation_space"
   ]
  },
  {
   "cell_type": "code",
   "execution_count": 10,
   "metadata": {},
   "outputs": [],
   "source": [
    "acs_dim = 3\n",
    "obs_dim = 11"
   ]
  },
  {
   "cell_type": "markdown",
   "metadata": {},
   "source": [
    "# Set Up Exploration\n",
    "\n",
    "As SAC maximizes policy's entropy there is no need for any additional exploration that alters policy's actions. Furthermore, SAC is able to learn complex observation-dependent exploration strategies over the course of training. This is achieved by the fact that log(std)'s that parameterize TanhNormal distribution are themselves parameterized by state-dependent neural network."
   ]
  },
  {
   "cell_type": "markdown",
   "metadata": {},
   "source": [
    "# Define SAC actor:"
   ]
  },
  {
   "cell_type": "code",
   "execution_count": 11,
   "metadata": {},
   "outputs": [],
   "source": [
    "actor = SAC(\n",
    "    device=torch.device('cuda'),\n",
    "    policy_net=TanhNormalMLP(obs_dim, acs_dim),\n",
    "    auto_tune_alpha=True,\n",
    "    target_entropy=-acs_dim,\n",
    "    learning_rate=policy_lr,\n",
    "    batch_size=100,\n",
    "    n_random_steps=10000,\n",
    "    min_acs=-1,\n",
    "    max_acs=1\n",
    ")"
   ]
  },
  {
   "cell_type": "markdown",
   "metadata": {},
   "source": [
    "# Define CDQN critic:\n",
    "\n",
    "!Note: SAC is using 2 critic networks instead of 1 just like TD3. That means that CDQN initialization is the same like TD3!"
   ]
  },
  {
   "cell_type": "code",
   "execution_count": 12,
   "metadata": {},
   "outputs": [],
   "source": [
    "critic = CDQN(\n",
    "    critic_net=ContQMLP(obs_dim, acs_dim),\n",
    "    critic_net2=ContQMLP(obs_dim, acs_dim),\n",
    "    device=torch.device('cuda'),\n",
    "    learning_rate=critic_lr,\n",
    "    weight_decay=0.0\n",
    ")"
   ]
  },
  {
   "cell_type": "markdown",
   "metadata": {},
   "source": [
    "# Provide actor with critic:\n",
    "\n",
    "!Note: Unlike A2C or PPO/TRPO + GAE architectures SAC updates actor and critic on the same batch of data, so critic is updated implicitly inside actor's update() method. Still, CDQN critic has its own update() method which is created to step schedules and follow the general API"
   ]
  },
  {
   "cell_type": "code",
   "execution_count": 13,
   "metadata": {},
   "outputs": [],
   "source": [
    "actor.set_critic(critic)"
   ]
  },
  {
   "cell_type": "markdown",
   "metadata": {},
   "source": [
    "# Create replay buffer and wrap envs into Sampler:"
   ]
  },
  {
   "cell_type": "code",
   "execution_count": 14,
   "metadata": {},
   "outputs": [],
   "source": [
    "sampler = Sampler(env=env)\n",
    "eval_sampler = Sampler(env=eval_env)\n",
    "\n",
    "\n",
    "replay_buffer = ReplayBuffer(int(1e+6))"
   ]
  },
  {
   "cell_type": "markdown",
   "metadata": {},
   "source": [
    "# Visualize untrained actor"
   ]
  },
  {
   "cell_type": "code",
   "execution_count": 15,
   "metadata": {},
   "outputs": [
    {
     "name": "stdout",
     "output_type": "stream",
     "text": [
      "Simulation done, total reward: 116.8213998740163\n",
      "Loading video...\n"
     ]
    },
    {
     "data": {
      "text/html": [
       "<video alt=\"test\" autoplay \n",
       "                    loop controls style=\"height: 400px;\">\n",
       "                    <source src=\"data:video/mp4;base64,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\" type=\"video/mp4\" />\n",
       "                 </video>"
      ],
      "text/plain": [
       "<IPython.core.display.HTML object>"
      ]
     },
     "metadata": {},
     "output_type": "display_data"
    }
   ],
   "source": [
    "visualize_actor(env=eval_env, actor=actor, nsteps=1000, train_sampling=False)"
   ]
  },
  {
   "cell_type": "markdown",
   "metadata": {},
   "source": [
    "# Run Training and Validation loop:"
   ]
  },
  {
   "cell_type": "code",
   "execution_count": null,
   "metadata": {},
   "outputs": [
    {
     "name": "stderr",
     "output_type": "stream",
     "text": [
      " 11%|█         | 106626/1000000 [34:17<4:48:12, 51.66it/s] "
     ]
    }
   ],
   "source": [
    "log_every = 10000\n",
    "n_steps = 1000000\n",
    "logdir = '/home/nikita/Desktop/RelaxExamples/SAC/tensorboard_logs'\n",
    "run_name = 'sac_hopper'\n",
    "logger = SummaryWriter(log_dir=f'{logdir}/{run_name}')\n",
    "\n",
    "for step in tqdm(range(n_steps)): # \n",
    "    \n",
    "    # sample training batch\n",
    "    unit_pathlist = sampler.sample(actor=actor,\n",
    "                                   n_transitions=1,\n",
    "                                   max_path_length=None, \n",
    "                                   reset_when_not_done=False,\n",
    "                                   train_sampling=True)\n",
    "    # policy.set_device(torch.device('cuda'))\n",
    "    \n",
    "    # add transitions to replay buffer\n",
    "    replay_buffer.add_paths(unit_pathlist)\n",
    "    \n",
    "    # update critic\n",
    "    critic_logs = critic.update(replay_buffer)\n",
    "        \n",
    "    # update actor\n",
    "    actor_logs = actor.update(replay_buffer)\n",
    "    \n",
    "    if step % log_every == 0 and step > 0:\n",
    "        \n",
    "        # create logs of buffer\n",
    "        buffer_logs = replay_buffer.create_logs(prefix='buffer')\n",
    "        \n",
    "        # evaluating the policy\n",
    "        eval_batch = eval_sampler.sample_n_episodes(actor=actor,\n",
    "                                                    n_episodes=5,\n",
    "                                                    max_path_length=None, \n",
    "                                                    train_sampling=False)\n",
    "        eval_logs = eval_batch.create_logs(prefix='eval')\n",
    "        logs = {**critic_logs,\n",
    "                **actor_logs,\n",
    "                **buffer_logs,\n",
    "                **eval_logs}\n",
    "        \n",
    "        for key, value in logs.items():\n",
    "            logger.add_scalar(key, value, step)\n",
    "    \n",
    "logger.flush()"
   ]
  },
  {
   "cell_type": "code",
   "execution_count": 17,
   "metadata": {},
   "outputs": [
    {
     "name": "stdout",
     "output_type": "stream",
     "text": [
      "The tensorboard extension is already loaded. To reload it, use:\n",
      "  %reload_ext tensorboard\n"
     ]
    },
    {
     "data": {
      "text/plain": [
       "Reusing TensorBoard on port 6007 (pid 11419), started 0:00:21 ago. (Use '!kill 11419' to kill it.)"
      ]
     },
     "metadata": {},
     "output_type": "display_data"
    },
    {
     "data": {
      "text/html": [
       "\n",
       "      <iframe id=\"tensorboard-frame-c7c2c8c661407f6d\" width=\"100%\" height=\"800\" frameborder=\"0\">\n",
       "      </iframe>\n",
       "      <script>\n",
       "        (function() {\n",
       "          const frame = document.getElementById(\"tensorboard-frame-c7c2c8c661407f6d\");\n",
       "          const url = new URL(\"/\", window.location);\n",
       "          const port = 6007;\n",
       "          if (port) {\n",
       "            url.port = port;\n",
       "          }\n",
       "          frame.src = url;\n",
       "        })();\n",
       "      </script>\n",
       "    "
      ],
      "text/plain": [
       "<IPython.core.display.HTML object>"
      ]
     },
     "metadata": {},
     "output_type": "display_data"
    }
   ],
   "source": [
    "%load_ext tensorboard\n",
    "%tensorboard --logdir /home/nikita/Desktop/RelaxExamples/SAC/tensorboard_logs"
   ]
  },
  {
   "cell_type": "markdown",
   "metadata": {},
   "source": [
    "# Visualize trained actor"
   ]
  },
  {
   "cell_type": "code",
   "execution_count": null,
   "metadata": {},
   "outputs": [],
   "source": [
    "visualize_actor(env=eval_env, actor=actor, nsteps=200, train_sampling=False)"
   ]
  },
  {
   "cell_type": "markdown",
   "metadata": {},
   "source": [
    "# Save Models"
   ]
  },
  {
   "cell_type": "code",
   "execution_count": null,
   "metadata": {},
   "outputs": [],
   "source": [
    "actor.save_checkpoint('trained_models', 'sac_actor')\n",
    "critic.save_checkpoint('trained_models', 'sac_critic')"
   ]
  },
  {
   "cell_type": "markdown",
   "metadata": {},
   "source": [
    "# Load Models"
   ]
  },
  {
   "cell_type": "code",
   "execution_count": null,
   "metadata": {},
   "outputs": [],
   "source": [
    "policy.load_checkpoint('trained_models', 'sac_actor')\n",
    "critic.load_checkpoint('trained_models', 'sac_critic')"
   ]
  }
 ],
 "metadata": {
  "kernelspec": {
   "display_name": "Python Relax",
   "language": "python",
   "name": "relax"
  },
  "language_info": {
   "codemirror_mode": {
    "name": "ipython",
    "version": 3
   },
   "file_extension": ".py",
   "mimetype": "text/x-python",
   "name": "python",
   "nbconvert_exporter": "python",
   "pygments_lexer": "ipython3",
   "version": "3.6.13"
  }
 },
 "nbformat": 4,
 "nbformat_minor": 4
}
